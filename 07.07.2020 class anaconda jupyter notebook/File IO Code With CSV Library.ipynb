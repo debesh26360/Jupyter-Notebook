{
 "cells": [
  {
   "cell_type": "code",
   "execution_count": 15,
   "metadata": {},
   "outputs": [
    {
     "name": "stdout",
     "output_type": "stream",
     "text": [
      "['123', 'mahesh', '60000', 'hr', 'mumbai']\n",
      "['124', 'manish', '35000', 'hr', 'mumbai']\n",
      "['125', 'marisha', '80000', 'sales', 'mumbai']\n"
     ]
    }
   ],
   "source": [
    "import csv\n",
    "\n",
    "#If you open file with block then you don't have to close your close.\n",
    "with open(\"employee_details.csv\",\"r\") as f:\n",
    "    data=csv.reader(f)\n",
    "    \n",
    "    for d in data:\n",
    "        if(d[-1]==\"mumbai\"):\n",
    "            print(d)"
   ]
  }
 ],
 "metadata": {
  "kernelspec": {
   "display_name": "Python 3",
   "language": "python",
   "name": "python3"
  },
  "language_info": {
   "codemirror_mode": {
    "name": "ipython",
    "version": 3
   },
   "file_extension": ".py",
   "mimetype": "text/x-python",
   "name": "python",
   "nbconvert_exporter": "python",
   "pygments_lexer": "ipython3",
   "version": "3.7.6"
  }
 },
 "nbformat": 4,
 "nbformat_minor": 4
}
