{
 "cells": [
  {
   "cell_type": "code",
   "execution_count": 1,
   "metadata": {},
   "outputs": [],
   "source": [
    "import pandas as pd"
   ]
  },
  {
   "cell_type": "code",
   "execution_count": 3,
   "metadata": {},
   "outputs": [
    {
     "data": {
      "text/html": [
       "<div>\n",
       "<style scoped>\n",
       "    .dataframe tbody tr th:only-of-type {\n",
       "        vertical-align: middle;\n",
       "    }\n",
       "\n",
       "    .dataframe tbody tr th {\n",
       "        vertical-align: top;\n",
       "    }\n",
       "\n",
       "    .dataframe thead th {\n",
       "        text-align: right;\n",
       "    }\n",
       "</style>\n",
       "<table border=\"1\" class=\"dataframe\">\n",
       "  <thead>\n",
       "    <tr style=\"text-align: right;\">\n",
       "      <th></th>\n",
       "      <th>area</th>\n",
       "      <th>price</th>\n",
       "    </tr>\n",
       "  </thead>\n",
       "  <tbody>\n",
       "    <tr>\n",
       "      <th>0</th>\n",
       "      <td>200</td>\n",
       "      <td>2000000</td>\n",
       "    </tr>\n",
       "    <tr>\n",
       "      <th>1</th>\n",
       "      <td>300</td>\n",
       "      <td>3100000</td>\n",
       "    </tr>\n",
       "    <tr>\n",
       "      <th>2</th>\n",
       "      <td>350</td>\n",
       "      <td>3800000</td>\n",
       "    </tr>\n",
       "    <tr>\n",
       "      <th>3</th>\n",
       "      <td>450</td>\n",
       "      <td>5000000</td>\n",
       "    </tr>\n",
       "    <tr>\n",
       "      <th>4</th>\n",
       "      <td>210</td>\n",
       "      <td>2100000</td>\n",
       "    </tr>\n",
       "    <tr>\n",
       "      <th>5</th>\n",
       "      <td>290</td>\n",
       "      <td>3000000</td>\n",
       "    </tr>\n",
       "  </tbody>\n",
       "</table>\n",
       "</div>"
      ],
      "text/plain": [
       "   area    price\n",
       "0   200  2000000\n",
       "1   300  3100000\n",
       "2   350  3800000\n",
       "3   450  5000000\n",
       "4   210  2100000\n",
       "5   290  3000000"
      ]
     },
     "execution_count": 3,
     "metadata": {},
     "output_type": "execute_result"
    }
   ],
   "source": [
    "df=pd.read_csv(\"home_prices.csv\")\n",
    "df"
   ]
  },
  {
   "cell_type": "code",
   "execution_count": 13,
   "metadata": {},
   "outputs": [
    {
     "data": {
      "image/png": "[encoded data removed]",
      "text/plain": [
       "<Figure size 432x288 with 1 Axes>"
      ]
     },
     "metadata": {
      "needs_background": "light"
     },
     "output_type": "display_data"
    }
   ],
   "source": [
    "#Marker styles\n",
    "#https://matplotlib.org/3.1.1/api/markers_api.htmldata:image/png;base64,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\n",
    "\n",
    "import matplotlib.pyplot as plt\n",
    "plt.scatter(df.area,df.price,color=\"red\",marker=\"+\")\n",
    "plt.xlabel(\"Area\")\n",
    "plt.ylabel(\"Price\")\n",
    "plt.title(\"Home_Prices\")\n",
    "plt.savefig(\"D:\\\\chart.png\")"
   ]
  }
 ],
 "metadata": {
  "kernelspec": {
   "display_name": "Python 3",
   "language": "python",
   "name": "python3"
  },
  "language_info": {
   "codemirror_mode": {
    "name": "ipython",
    "version": 3
   },
   "file_extension": ".py",
   "mimetype": "text/x-python",
   "name": "python",
   "nbconvert_exporter": "python",
   "pygments_lexer": "ipython3",
   "version": "3.7.6"
  }
 },
 "nbformat": 4,
 "nbformat_minor": 4
}
